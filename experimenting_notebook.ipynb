{
 "cells": [
  {
   "cell_type": "markdown",
   "metadata": {},
   "source": [
    "# Experimenting Notebook\n",
    "\n",
    "This notebook aims develop and test the code that will be used on the app."
   ]
  },
  {
   "cell_type": "code",
   "execution_count": 27,
   "metadata": {},
   "outputs": [],
   "source": [
    "import nltk\n",
    "import re\n",
    "import string\n",
    "from nltk.tokenize import sent_tokenize as nlkt_sent_tokenize\n",
    "from nltk.tokenize import word_tokenize as nlkt_word_tokenize\n",
    "from sklearn.feature_extraction.text import TfidfVectorizer, TfidfTransformer\n",
    "from nltk.corpus import stopwords\n",
    "import numpy as np\n",
    "from scipy.spatial.distance import cosine\n",
    "from newspaper import Article"
   ]
  },
  {
   "cell_type": "code",
   "execution_count": 9,
   "metadata": {},
   "outputs": [
    {
     "name": "stdout",
     "output_type": "stream",
     "text": [
      "É uma opção para quem busca proventos no longo prazo, diz Milton Rabelo, analista do setor financeiro da VG Research. Isso porque o banco enfrentou momentos difíceis recentemente por conta da inadimplência. \"Ficou muito claro que houve grandes desajustes na concessão de crédito e nas operações de tesouraria e, desde então, a gestão tem buscado corrigir esses equívocos. Porém essa mudança de rota leva um tempo\", avalia Rabelo.\n",
      "\n",
      "Com uma recuperação mais lenta, as ações do banco estariam com desconto, abrindo uma oportunidade. Rabelo projeta um dividend yield, ou seja, retorno com dividendos sobre o preço da ação, de 7% para as ações BBDC4 em 2024.\n",
      "\n",
      "Outro banco que faz remunerações mensais é o Itaú. Rabelo destaca que o Itaú é um banco com sólidos fundamentos, grande valor de mercado, líder e com crescimento nos lucros e receitas.\n",
      "\n",
      "A desvantagem é que justamente por esse motivo as ações podem estar caras. Em consequência o dividend yield (retorno em dividendos, que é a relação entre o dividendo e o preço do papel) pode ser menor. \"O Itaú possivelmente é a opção menos interessante para investidores focados em uma estratégia de dividendos\", afirma Rabelo, que projeta um dividend yield de 5,5% para o banco em 2024. Os mais otimistas, como os analistas da Genial Investimentos, esperam que o Itaú tenha um crescimento do lucro acima de 10% em 2024 e distribua 61% do lucro em proventos (payout). Assim, o DY seria de 7,6%.\n",
      "\n",
      "Menos conhecido que os pares, o Banco do Estado do Espírito Santo (Banestes) também paga juros sobre capital próprio mensais. Na sua política de dividendos, o Banestes distribui no mínimo 25% do seu lucro aos investidores, não podendo ultrapassar 60%. Além dos proventos mensais, o banco pode declarar dividendos e JCP semestrais.\n",
      "\n",
      "JHSF: uma incorporadora que paga dividendos\n",
      "\n",
      "Ver empresas do setor de construção e incorporação pagando dividendos frequentes é raridade, mas uma companhia vem dando alguns passos com o intuito de estabilizar as suas distribuições. É a JHSF (JHSF3), incorporadora voltada à classe alta, que tem no seu portfólio shoppings de alto padrão como o Cidade Jardim e o Catarina Fashion Outlet. Além de projetos como a Fazenda Boa Vista, hotéis e restaurantes de marca Fasano e até um aeroporto internacional, o Catarina Aeroporto Executivo.\n"
     ]
    }
   ],
   "source": [
    "url_test = 'https://economia.uol.com.br/mais/ultimas-noticias/2024/02/02/dividendos-no-bolso-todo-mes-veja-16-acoes-que-fazem-pagamentos-regulares.htm'\n",
    "\n",
    "# Testing the extraction of the text of an article from its URL \n",
    "def get_text_from_article(article_url):\n",
    "    article = Article(article_url)\n",
    "    article.download()\n",
    "    article.parse()\n",
    "    return article.text\n",
    "\n",
    "print(get_text_from_article(url_test))"
   ]
  },
  {
   "cell_type": "code",
   "execution_count": 10,
   "metadata": {},
   "outputs": [
    {
     "name": "stderr",
     "output_type": "stream",
     "text": [
      "[nltk_data] Downloading package punkt to /home/codespace/nltk_data...\n",
      "[nltk_data]   Package punkt is already up-to-date!\n"
     ]
    },
    {
     "data": {
      "text/plain": [
       "['É uma opção para quem busca proventos no longo prazo, diz Milton Rabelo, analista do setor financeiro da VG Research.',\n",
       " 'Isso porque o banco enfrentou momentos difíceis recentemente por conta da inadimplência.',\n",
       " '\"Ficou muito claro que houve grandes desajustes na concessão de crédito e nas operações de tesouraria e, desde então, a gestão tem buscado corrigir esses equívocos.',\n",
       " 'Porém essa mudança de rota leva um tempo\", avalia Rabelo.',\n",
       " 'Com uma recuperação mais lenta, as ações do banco estariam com desconto, abrindo uma oportunidade.',\n",
       " 'Rabelo projeta um dividend yield, ou seja, retorno com dividendos sobre o preço da ação, de 7% para as ações BBDC4 em 2024.',\n",
       " 'Outro banco que faz remunerações mensais é o Itaú.',\n",
       " 'Rabelo destaca que o Itaú é um banco com sólidos fundamentos, grande valor de mercado, líder e com crescimento nos lucros e receitas.',\n",
       " 'A desvantagem é que justamente por esse motivo as ações podem estar caras.',\n",
       " 'Em consequência o dividend yield (retorno em dividendos, que é a relação entre o dividendo e o preço do papel) pode ser menor.',\n",
       " '\"O Itaú possivelmente é a opção menos interessante para investidores focados em uma estratégia de dividendos\", afirma Rabelo, que projeta um dividend yield de 5,5% para o banco em 2024.',\n",
       " 'Os mais otimistas, como os analistas da Genial Investimentos, esperam que o Itaú tenha um crescimento do lucro acima de 10% em 2024 e distribua 61% do lucro em proventos (payout).',\n",
       " 'Assim, o DY seria de 7,6%.',\n",
       " 'Menos conhecido que os pares, o Banco do Estado do Espírito Santo (Banestes) também paga juros sobre capital próprio mensais.',\n",
       " 'Na sua política de dividendos, o Banestes distribui no mínimo 25% do seu lucro aos investidores, não podendo ultrapassar 60%.',\n",
       " 'Além dos proventos mensais, o banco pode declarar dividendos e JCP semestrais.',\n",
       " 'JHSF: uma incorporadora que paga dividendos\\n\\nVer empresas do setor de construção e incorporação pagando dividendos frequentes é raridade, mas uma companhia vem dando alguns passos com o intuito de estabilizar as suas distribuições.',\n",
       " 'É a JHSF (JHSF3), incorporadora voltada à classe alta, que tem no seu portfólio shoppings de alto padrão como o Cidade Jardim e o Catarina Fashion Outlet.',\n",
       " 'Além de projetos como a Fazenda Boa Vista, hotéis e restaurantes de marca Fasano e até um aeroporto internacional, o Catarina Aeroporto Executivo.']"
      ]
     },
     "execution_count": 10,
     "metadata": {},
     "output_type": "execute_result"
    }
   ],
   "source": [
    "nltk.download(\"punkt\")\n",
    "nlkt_sent_tokenize(get_text_from_article(url_test))"
   ]
  },
  {
   "cell_type": "code",
   "execution_count": 13,
   "metadata": {},
   "outputs": [],
   "source": [
    "# Testing the normalizing step\n",
    "def sent_tokenize(text):\n",
    "    nltk.download(\"punkt\")\n",
    "    return nlkt_sent_tokenize(text)\n",
    "\n",
    "\n",
    "def normalizing_sentence(text):\n",
    "    nltk.download(\"stopwords\")\n",
    "    stop_words = stopwords.words('portuguese')\n",
    "    sentences = sent_tokenize(text)\n",
    "    sentences_cleaned = []\n",
    "    for sentence in sentences:\n",
    "        words = nlkt_word_tokenize(sentence)\n",
    "        words = [w for w in words if w not in string.punctuation]\n",
    "        words = [w for w in words if not w.lower() in stop_words]\n",
    "        words = [w.lower() for w in words]\n",
    "        sentences_cleaned.append(\" \".join(words))\n",
    "    return sentences_cleaned"
   ]
  },
  {
   "cell_type": "code",
   "execution_count": 31,
   "metadata": {},
   "outputs": [
    {
     "name": "stderr",
     "output_type": "stream",
     "text": [
      "[nltk_data] Downloading package stopwords to\n",
      "[nltk_data]     /home/codespace/nltk_data...\n",
      "[nltk_data]   Package stopwords is already up-to-date!\n",
      "[nltk_data] Downloading package punkt to /home/codespace/nltk_data...\n",
      "[nltk_data]   Package punkt is already up-to-date!\n"
     ]
    },
    {
     "data": {
      "text/plain": [
       "(19, 166)"
      ]
     },
     "execution_count": 31,
     "metadata": {},
     "output_type": "execute_result"
    }
   ],
   "source": [
    "vectorizer = TfidfVectorizer()\n",
    "sent_word_matrix = vectorizer.fit_transform(normalizing_sentence(get_text_from_article(url_test)))\n",
    "sent_word_matrix.toarray().shape"
   ]
  },
  {
   "cell_type": "code",
   "execution_count": 44,
   "metadata": {},
   "outputs": [],
   "source": [
    "# Testing the TF_IDF transformation\n",
    "def get_tfidf_matrix(sentences):\n",
    "    vectorizer = TfidfVectorizer()\n",
    "    tfidf_matrix = vectorizer.fit_transform(sentences)\n",
    "    return tfidf_matrix.toarray(), vectorizer.get_feature_names_out()\n",
    "    \n",
    "def get_centroid_words(tfidf_matrix, feature_names):\n",
    "    centroid_vector = tfidf_matrix.sum(0)\n",
    "    centroid_vector = np.divide(centroid_vector, centroid_vector.max())\n",
    "    relevant_vector_indices = np.where(centroid_vector > 0.3)[0]\n",
    "    word_list = list(np.array(feature_names)[relevant_vector_indices])\n",
    "    return word_list"
   ]
  },
  {
   "cell_type": "code",
   "execution_count": 46,
   "metadata": {},
   "outputs": [],
   "source": [
    "# Calculates cosine similarity\n",
    "def similarity(v1, v2):\n",
    "    score = 0.0\n",
    "    if np.count_nonzero(v1) != 0 and np.count_nonzero(v2) != 0:\n",
    "        score = ((1 - cosine(v1, v2)) + 1) / 2\n",
    "    return score"
   ]
  },
  {
   "cell_type": "code",
   "execution_count": 45,
   "metadata": {},
   "outputs": [
    {
     "name": "stderr",
     "output_type": "stream",
     "text": [
      "[nltk_data] Downloading package stopwords to\n",
      "[nltk_data]     /home/codespace/nltk_data...\n",
      "[nltk_data]   Package stopwords is already up-to-date!\n",
      "[nltk_data] Downloading package punkt to /home/codespace/nltk_data...\n",
      "[nltk_data]   Package punkt is already up-to-date!\n"
     ]
    },
    {
     "data": {
      "text/plain": [
       "['2024',\n",
       " 'aeroporto',\n",
       " 'além',\n",
       " 'assim',\n",
       " 'ações',\n",
       " 'banco',\n",
       " 'banestes',\n",
       " 'catarina',\n",
       " 'crescimento',\n",
       " 'dividend',\n",
       " 'dividendos',\n",
       " 'dy',\n",
       " 'faz',\n",
       " 'investidores',\n",
       " 'itaú',\n",
       " 'lucro',\n",
       " 'menos',\n",
       " 'mensais',\n",
       " 'opção',\n",
       " 'outro',\n",
       " 'paga',\n",
       " 'pode',\n",
       " 'preço',\n",
       " 'projeta',\n",
       " 'proventos',\n",
       " 'rabelo',\n",
       " 'remunerações',\n",
       " 'retorno',\n",
       " 'setor',\n",
       " 'sobre',\n",
       " 'yield']"
      ]
     },
     "execution_count": 45,
     "metadata": {},
     "output_type": "execute_result"
    }
   ],
   "source": [
    "obj1, obj2 = get_tfidf_matrix(normalizing_sentence(get_text_from_article(url_test)))\n",
    "get_centroid_words(obj1, obj2)"
   ]
  },
  {
   "cell_type": "code",
   "execution_count": 11,
   "metadata": {},
   "outputs": [],
   "source": [
    "# Populate word vector with all embeddings.\n",
    "# This word vector is a look up table that is used\n",
    "# for getting the centroid and sentences embedding representation.\n",
    "def word_vectors_cache(sentences, embedding_model):\n",
    "    word_vectors = dict()\n",
    "    for sent in sentences:\n",
    "        words = nlkt_word_tokenize(sent)\n",
    "        for w in words:\n",
    "            word_vectors.update({w: embedding_model.wv[w]})\n",
    "    return word_vectors\n",
    "\n",
    "\n",
    "# Sentence embedding representation with sum of word vectors\n",
    "def build_embedding_representation(words, word_vectors, embedding_model):\n",
    "    embedding_representation = np.zeros(embedding_model.vector_size, dtype=\"float32\")\n",
    "    word_vectors_keys = set(word_vectors.keys())\n",
    "    count = 0\n",
    "    for w in words:\n",
    "        if w in word_vectors_keys:\n",
    "            embedding_representation = embedding_representation + word_vectors[w]\n",
    "            count += 1\n",
    "    if count != 0:\n",
    "        embedding_representation = np.divide(embedding_representation, count)\n",
    "    return embedding_representation\n",
    "\n",
    "\n",
    "def summarize(text, emdedding_model):\n",
    "    raw_sentences = sent_tokenize(text)\n",
    "    clean_sentences = cleanup_sentences(text)\n",
    "    for i, s in enumerate(raw_sentences):\n",
    "        print(i, s)\n",
    "    for i, s in enumerate(clean_sentences):\n",
    "        print(i, s)\n",
    "    centroid_words = get_tf_idf(clean_sentences)\n",
    "    print(len(centroid_words), centroid_words)\n",
    "    word_vectors = word_vectors_cache(clean_sentences, emdedding_model)\n",
    "    # Centroid embedding representation\n",
    "    centroid_vector = build_embedding_representation(centroid_words, word_vectors, emdedding_model)\n",
    "    sentences_scores = []\n",
    "    for i in range(len(clean_sentences)):\n",
    "        scores = []\n",
    "        words = clean_sentences[i].split()\n",
    "\n",
    "        # Sentence embedding representation\n",
    "        sentence_vector = build_embedding_representation(words, word_vectors, emdedding_model)\n",
    "\n",
    "        # Cosine similarity between sentence embedding and centroid embedding\n",
    "        score = similarity(sentence_vector, centroid_vector)\n",
    "        sentences_scores.append((i, raw_sentences[i], score, sentence_vector))\n",
    "    sentence_scores_sort = sorted(sentences_scores, key=lambda el: el[2], reverse=True)\n",
    "    for s in sentence_scores_sort:\n",
    "        print(s[0], s[1], s[2])\n",
    "    count = 0\n",
    "    sentences_summary = []\n",
    "    # Handle redundancy\n",
    "    for s in sentence_scores_sort:\n",
    "        if count > 100:\n",
    "            break\n",
    "        include_flag = True\n",
    "        for ps in sentences_summary:\n",
    "            sim = similarity(s[3], ps[3])\n",
    "            if sim > 0.95:\n",
    "                include_flag = False\n",
    "        if include_flag:\n",
    "            sentences_summary.append(s)\n",
    "            count += len(s[1].split())\n",
    "\n",
    "        sentences_summary = sorted(sentences_summary, key=lambda el: el[0], reverse=False)\n",
    "\n",
    "    summary = \"\\n\".join([s[1] for s in sentences_summary])\n",
    "    return summary"
   ]
  },
  {
   "cell_type": "code",
   "execution_count": null,
   "metadata": {},
   "outputs": [],
   "source": [
    "\n"
   ]
  }
 ],
 "metadata": {
  "kernelspec": {
   "display_name": ".venv",
   "language": "python",
   "name": "python3"
  },
  "language_info": {
   "codemirror_mode": {
    "name": "ipython",
    "version": 3
   },
   "file_extension": ".py",
   "mimetype": "text/x-python",
   "name": "python",
   "nbconvert_exporter": "python",
   "pygments_lexer": "ipython3",
   "version": "3.10.13"
  }
 },
 "nbformat": 4,
 "nbformat_minor": 2
}
